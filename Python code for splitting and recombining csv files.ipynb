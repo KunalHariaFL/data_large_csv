{
 "cells": [
  {
   "cell_type": "code",
   "execution_count": 1,
   "id": "51374e12",
   "metadata": {},
   "outputs": [],
   "source": [
    "import pandas as pd "
   ]
  },
  {
   "cell_type": "markdown",
   "id": "7969b0f0",
   "metadata": {},
   "source": [
    "# Split the \"long\" csv into separate files to upload online \n",
    "\n",
    "##### (file limit is 25Mb)"
   ]
  },
  {
   "cell_type": "code",
   "execution_count": 2,
   "id": "25af5341",
   "metadata": {},
   "outputs": [],
   "source": [
    "df = pd.read_csv(\"snp500_long.csv\", index_col=False)\n",
    "\n",
    "num_rows = df.shape[0] # 2,592,576\n",
    "\n",
    "num_files = 8\n",
    "\n",
    "rows_per_file = num_rows // num_files # 324,072"
   ]
  },
  {
   "cell_type": "code",
   "execution_count": 3,
   "id": "d15d5116",
   "metadata": {},
   "outputs": [],
   "source": [
    "for i in range(num_files): \n",
    "           \n",
    "    df[ rows_per_file * (i) : rows_per_file * (i+1) ].to_csv(f\"snp500_long_{i}.csv\")"
   ]
  },
  {
   "cell_type": "markdown",
   "id": "d64ad21a",
   "metadata": {},
   "source": [
    "# Appendix: reverse the process: combine the many files"
   ]
  },
  {
   "cell_type": "code",
   "execution_count": 4,
   "id": "c8a03ff8",
   "metadata": {},
   "outputs": [
    {
     "data": {
      "text/plain": [
       "True"
      ]
     },
     "execution_count": 4,
     "metadata": {},
     "output_type": "execute_result"
    }
   ],
   "source": [
    "df_snp = pd.DataFrame() # to store the data\n",
    "\n",
    "for i in range(num_files):\n",
    "    \n",
    "    df = pd.read_csv(f\"snp500_long_{i}.csv\")\n",
    "    df_snp = pd.concat([df_snp, df])\n",
    "    \n",
    "df_snp.shape[0] == num_rows"
   ]
  },
  {
   "cell_type": "code",
   "execution_count": 5,
   "id": "0ece55d8",
   "metadata": {},
   "outputs": [],
   "source": [
    "df_snp.to_csv(\"snp500_long_ALL.csv\", index = False)"
   ]
  }
 ],
 "metadata": {
  "kernelspec": {
   "display_name": "Python 3 (ipykernel)",
   "language": "python",
   "name": "python3"
  },
  "language_info": {
   "codemirror_mode": {
    "name": "ipython",
    "version": 3
   },
   "file_extension": ".py",
   "mimetype": "text/x-python",
   "name": "python",
   "nbconvert_exporter": "python",
   "pygments_lexer": "ipython3",
   "version": "3.8.16"
  }
 },
 "nbformat": 4,
 "nbformat_minor": 5
}
